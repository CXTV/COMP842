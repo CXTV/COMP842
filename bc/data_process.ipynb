{
 "cells": [
  {
   "cell_type": "markdown",
   "metadata": {},
   "source": [
    "Merge multiple files into one csv file"
   ]
  },
  {
   "cell_type": "code",
   "execution_count": 6,
   "metadata": {},
   "outputs": [],
   "source": [
    "import pandas as pd\n",
    "import glob\n",
    "\n",
    "file_list = glob.glob(\"*.csv\")\n",
    "combined_data = pd.DataFrame()\n",
    "\n",
    "for file in file_list:\n",
    "    data = pd.read_csv(file)\n",
    "    combined_data = pd.concat([combined_data, data], ignore_index=True)\n",
    "\n",
    "combined_data.to_csv(\"UDST_data.csv\", index=False)\n",
    "\n"
   ]
  },
  {
   "cell_type": "markdown",
   "metadata": {},
   "source": [
    "Correct the erroneous CSV format and add new headers"
   ]
  },
  {
   "cell_type": "code",
   "execution_count": 8,
   "metadata": {},
   "outputs": [],
   "source": [
    "import csv\n",
    "\n",
    "with open('USDT_data.csv', 'r', newline='') as input_file:\n",
    "    reader = csv.reader(input_file, delimiter=';')\n",
    "    data = list(reader)\n",
    "\n",
    "with open('USDT_data_new.csv', 'w', newline='') as output_file:\n",
    "    writer = csv.writer(output_file)\n",
    "    for row in data:\n",
    "        new_row = []\n",
    "        date_values = row[0].strip('\"\"').split(';')\n",
    "        new_row.extend(date_values)\n",
    "        new_row.extend(row[1:])\n",
    "        writer.writerow(new_row)\n",
    "\n",
    "\n"
   ]
  }
 ],
 "metadata": {
  "kernelspec": {
   "display_name": "Python 3",
   "language": "python",
   "name": "python3"
  },
  "language_info": {
   "codemirror_mode": {
    "name": "ipython",
    "version": 3
   },
   "file_extension": ".py",
   "mimetype": "text/x-python",
   "name": "python",
   "nbconvert_exporter": "python",
   "pygments_lexer": "ipython3",
   "version": "3.10.11"
  },
  "orig_nbformat": 4
 },
 "nbformat": 4,
 "nbformat_minor": 2
}
